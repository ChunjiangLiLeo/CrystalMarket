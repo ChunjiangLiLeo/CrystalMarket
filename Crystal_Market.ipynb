{
 "cells": [
  {
   "cell_type": "code",
   "execution_count": 15,
   "id": "b65c50a0",
   "metadata": {},
   "outputs": [],
   "source": [
    "import os\n",
    "import pandas as pd\n",
    "\n",
    "# Set the working directory\n",
    "os.chdir(\"/Users/jade/Desktop/CrystalMarket\")"
   ]
  },
  {
   "cell_type": "code",
   "execution_count": 85,
   "id": "e2b08fbd",
   "metadata": {},
   "outputs": [
    {
     "name": "stderr",
     "output_type": "stream",
     "text": [
      "[nltk_data] Downloading package stopwords to /Users/jade/nltk_data...\n",
      "[nltk_data]   Package stopwords is already up-to-date!\n",
      "[nltk_data] Downloading package wordnet to /Users/jade/nltk_data...\n",
      "[nltk_data]   Package wordnet is already up-to-date!\n"
     ]
    }
   ],
   "source": [
    "# comments that are upvoted do not necessary indicate positive comments about products being upvoted; \n",
    "# it can be something negative like this crystal should be fake or how to detect fake crystals \n",
    "# our goal for the unstructured data analysis is to find hot topics under crystal market and the topics themselves \n",
    "# can be neutral but should indicate what customers care and value the most(appearing most frequent)\n",
    "\n",
    "# Define custom stopwords (add more as needed)\n",
    "custom_stopwords = set([\n",
    "    \"like\", \"it's\", \"its\", \"one\", \"even\", \"see\", \"look\", \"would\", \n",
    "    \"definitely\", \"also\", \"much\", \"good\", \"maybe\", \"could\", \"make\",\n",
    "    \"that’s\", \"that\", \"it.\", \"&\", \"thank\", \"really\"])\n",
    "\n",
    "import re\n",
    "import nltk\n",
    "from nltk.corpus import stopwords\n",
    "from nltk.stem import WordNetLemmatizer\n",
    "\n",
    "# Download required NLTK data\n",
    "nltk.download(\"stopwords\")\n",
    "nltk.download(\"wordnet\")\n",
    "\n",
    "# Load standard stopwords\n",
    "stop_words = set(stopwords.words(\"english\"))\n",
    "lemmatizer = WordNetLemmatizer()\n",
    "\n",
    "# Combine standard stopwords with custom stopwords\n",
    "all_stopwords = stop_words.union(custom_stopwords)\n",
    "\n",
    "# Function to clean text and remove unimportant words\n",
    "def preprocess_text(text):\n",
    "    text = re.sub(r'\\d+', '', text)  # Remove numbers\n",
    "    words = text.lower().split()\n",
    "    words = [word for word in words if word not in all_stopwords]  # Remove stopwords\n",
    "    words = [lemmatizer.lemmatize(word) for word in words]  # Lemmatization\n",
    "    return words\n",
    "\n",
    "# Apply preprocessing to dataset\n",
    "df[\"body\"] = df[\"body\"].astype(str).apply(preprocess_text)\n",
    "\n"
   ]
  },
  {
   "cell_type": "code",
   "execution_count": 86,
   "id": "2723357b",
   "metadata": {},
   "outputs": [
    {
     "name": "stdout",
     "output_type": "stream",
     "text": [
      "✅ Meaningful Words Remaining: 5459\n"
     ]
    }
   ],
   "source": [
    "# Tokenize all words\n",
    "all_words = \" \".join(df[\"body\"].astype(str)).lower().split()\n",
    "\n",
    "# Count word occurrences\n",
    "word_counts = Counter(all_words)\n",
    "\n",
    "# Define threshold for too common words (e.g., words appearing in > 5% of the dataset)\n",
    "common_threshold = len(all_words) * 0.05  # 5% of total words\n",
    "\n",
    "# Identify useful words (not in stopwords and not too common)\n",
    "filtered_words = {word for word, count in word_counts.items() if word not in stop_words and count < common_threshold}\n",
    "\n",
    "print(f\"✅ Meaningful Words Remaining: {len(filtered_words)}\")\n"
   ]
  },
  {
   "cell_type": "code",
   "execution_count": 88,
   "id": "df358dab",
   "metadata": {},
   "outputs": [],
   "source": [
    "from sklearn.feature_extraction.text import TfidfVectorizer\n",
    "\n",
    "# Convert text into list format for TF-IDF\n",
    "df[\"text\"] = df[\"body\"].astype(str).apply(lambda x: \" \".join(x) if isinstance(x, list) else str(x))\n"
   ]
  },
  {
   "cell_type": "code",
   "execution_count": 89,
   "id": "8e24502e",
   "metadata": {},
   "outputs": [
    {
     "name": "stdout",
     "output_type": "stream",
     "text": [
      "🔹 Selected 3357 Key Market Words\n",
      "🔥 Top 20 Keywords: ['aaa' 'aaefdbffdafee' 'aaw' 'abalone' 'abilities' 'ability' 'able'\n",
      " 'about' 'absolutely' 'absurdly' 'abundant' 'abusive' 'acc' 'accept'\n",
      " 'acceptable' 'access' 'accessories' 'according' 'accumulated' 'accurate']\n"
     ]
    }
   ],
   "source": [
    "# Apply TF-IDF\n",
    "vectorizer = TfidfVectorizer(max_features=5000)\n",
    "tfidf_matrix = vectorizer.fit_transform(df[\"text\"])\n",
    "\n",
    "# Extract important words\n",
    "selected_keywords = vectorizer.get_feature_names_out()\n",
    "print(f\"🔹 Selected {len(selected_keywords)} Key Market Words\")\n",
    "print(f\"🔥 Top 20 Keywords: {selected_keywords[:20]}\")"
   ]
  },
  {
   "cell_type": "code",
   "execution_count": 90,
   "id": "3867e2da",
   "metadata": {},
   "outputs": [
    {
     "name": "stdout",
     "output_type": "stream",
     "text": [
      "\n",
      "🔹 Topic 1: 'fluorite',, 'it’s',, 'fake',, 'quartz',, 'think',, 'know',, 'people',, 'photo',, 'piece',, 'i’m',\n",
      "\n",
      "🔹 Topic 2: '.',, 'pretty',, 'citrine',, 'amethyst',, ['look',, 'look',, 'opal',, 'may',, 'crystal',, 'piece',\n",
      "\n",
      "🔹 Topic 3: 'crystal',, 'it’s',, 'stone',, 'fluorite',, 'use',, 'want',, 'know',, 'fake',, 'piece',, 'love',\n",
      "\n",
      "🔹 Topic 4: 'it’s',, 'buy',, 'look',, 'don’t',, 'say',, 'sure',, 'get',, 'i’m',, 'fluorite',, 'natural',\n",
      "\n",
      "🔹 Topic 5: 'crystal',, 'know',, 'piece',, 'feel',, 'it’s',, 'different',, 'get',, 'want',, 'sure',, ['it’s',\n"
     ]
    }
   ],
   "source": [
    "from gensim.corpora import Dictionary\n",
    "from gensim.models.ldamodel import LdaModel\n",
    "\n",
    "# Convert cleaned text into tokenized format\n",
    "df[\"tokenized_text\"] = df[\"text\"].apply(lambda x: x.split())\n",
    "\n",
    "# Create dictionary and corpus\n",
    "dictionary = Dictionary(df[\"tokenized_text\"])\n",
    "corpus = [dictionary.doc2bow(text) for text in df[\"tokenized_text\"]]\n",
    "\n",
    "# Train LDA Model\n",
    "NUM_TOPICS = 5\n",
    "lda_model = LdaModel(corpus=corpus, id2word=dictionary, num_topics=NUM_TOPICS, passes=10, random_state=42)\n",
    "\n",
    "# Print the top words in each topic\n",
    "for topic_id, words in lda_model.show_topics(num_topics=NUM_TOPICS, num_words=10, formatted=False):\n",
    "    print(f\"\\n🔹 Topic {topic_id + 1}: \" + \", \".join([word for word, _ in words]))"
   ]
  },
  {
   "cell_type": "code",
   "execution_count": 99,
   "id": "0b8a5e5a",
   "metadata": {},
   "outputs": [],
   "source": [
    "df=pd.read_csv(\"cc.csv\")"
   ]
  },
  {
   "cell_type": "code",
   "execution_count": 100,
   "id": "ec94c909",
   "metadata": {},
   "outputs": [],
   "source": [
    "# Define an expanded custom stopword list\n",
    "custom_stopwords = set([\n",
    "    \"like\", \"it's\", \"its\", \"one\", \"even\", \"see\", \"look\", \"would\", \"definitely\", \n",
    "    \"also\", \"much\", \"good\", \"maybe\", \"could\", \"make\", \"that’s\", \"that\", \"it.\", \"&\", \n",
    "    \"thank\", \"really\",\"think\", \"know\", \"people\", \n",
    "    \"photo\", \"piece\", \"i’m\", \"pretty\", \"citrine\", \"amethyst\", \"opal\", \"may\", \"stone\",\n",
    "    \"use\", \"want\", \"buy\", \"don’t\", \"say\", \"sure\", \"get\", \"feel\", \"different\",\"it's\",\n",
    "    \"crystal\",\"look\",\".\",\"bc\",\"u\",\"$\"\n",
    "])\n"
   ]
  },
  {
   "cell_type": "code",
   "execution_count": 101,
   "id": "bad20d1e",
   "metadata": {},
   "outputs": [
    {
     "name": "stderr",
     "output_type": "stream",
     "text": [
      "[nltk_data] Downloading package stopwords to /Users/jade/nltk_data...\n",
      "[nltk_data]   Package stopwords is already up-to-date!\n",
      "[nltk_data] Downloading package wordnet to /Users/jade/nltk_data...\n",
      "[nltk_data]   Package wordnet is already up-to-date!\n"
     ]
    }
   ],
   "source": [
    "import re\n",
    "import nltk\n",
    "from nltk.corpus import stopwords\n",
    "from nltk.stem import WordNetLemmatizer\n",
    "\n",
    "# Download stopwords if not already available\n",
    "nltk.download(\"stopwords\")\n",
    "nltk.download(\"wordnet\")\n",
    "\n",
    "# Load NLTK stopwords and merge with custom stopwords\n",
    "stop_words = set(stopwords.words(\"english\")).union(custom_stopwords)\n",
    "lemmatizer = WordNetLemmatizer()\n",
    "\n",
    "# Function to clean text and filter out unimportant words\n",
    "def preprocess_text(text):\n",
    "    text = re.sub(r'\\d+', '', text)  # Remove numbers\n",
    "    words = text.lower().split()\n",
    "    words = [word for word in words if word not in stop_words]  # Remove stopwords\n",
    "    words = [lemmatizer.lemmatize(word) for word in words]  # Lemmatization\n",
    "    return words\n",
    "\n",
    "# Apply the updated preprocessing function\n",
    "df[\"cleaned_text\"] = df[\"body\"].astype(str).apply(preprocess_text)\n"
   ]
  },
  {
   "cell_type": "code",
   "execution_count": 103,
   "id": "ca9620e6",
   "metadata": {},
   "outputs": [
    {
     "name": "stdout",
     "output_type": "stream",
     "text": [
      "🔹 Selected 3459 Key Market Words\n",
      "🔥 Top 20 Keywords: ['aaa' 'aaefdbffdafee' 'aaw' 'abalone' 'abilities' 'ability' 'able'\n",
      " 'about' 'absolutely' 'absorb' 'absorbing' 'absurdly' 'abundant' 'abuse'\n",
      " 'abusive' 'acc' 'accept' 'acceptable' 'access' 'accessories']\n"
     ]
    }
   ],
   "source": [
    "# Apply TF-IDF\n",
    "df[\"text\"] = df[\"cleaned_text\"].astype(str).apply(lambda x: \" \".join(x) if isinstance(x, list) else str(x))\n",
    "vectorizer = TfidfVectorizer(max_features=5000)\n",
    "tfidf_matrix = vectorizer.fit_transform(df[\"text\"])\n",
    "\n",
    "# Extract important words\n",
    "selected_keywords = vectorizer.get_feature_names_out()\n",
    "print(f\"🔹 Selected {len(selected_keywords)} Key Market Words\")\n",
    "print(f\"🔥 Top 20 Keywords: {selected_keywords[:20]}\")"
   ]
  },
  {
   "cell_type": "code",
   "execution_count": 104,
   "id": "59fb2dfb",
   "metadata": {},
   "outputs": [
    {
     "ename": "TypeError",
     "evalue": "doc2bow expects an array of unicode tokens on input, not a single string",
     "output_type": "error",
     "traceback": [
      "\u001b[0;31m---------------------------------------------------------------------------\u001b[0m",
      "\u001b[0;31mTypeError\u001b[0m                                 Traceback (most recent call last)",
      "Cell \u001b[0;32mIn[104], line 5\u001b[0m\n\u001b[1;32m      2\u001b[0m \u001b[38;5;28;01mfrom\u001b[39;00m \u001b[38;5;21;01mgensim\u001b[39;00m\u001b[38;5;21;01m.\u001b[39;00m\u001b[38;5;21;01mmodels\u001b[39;00m\u001b[38;5;21;01m.\u001b[39;00m\u001b[38;5;21;01mldamodel\u001b[39;00m \u001b[38;5;28;01mimport\u001b[39;00m LdaModel\n\u001b[1;32m      4\u001b[0m \u001b[38;5;66;03m# Convert cleaned text into dictionary and corpus format for LDA\u001b[39;00m\n\u001b[0;32m----> 5\u001b[0m dictionary \u001b[38;5;241m=\u001b[39m Dictionary(df[\u001b[38;5;124m\"\u001b[39m\u001b[38;5;124mtext\u001b[39m\u001b[38;5;124m\"\u001b[39m])\n\u001b[1;32m      6\u001b[0m corpus \u001b[38;5;241m=\u001b[39m [dictionary\u001b[38;5;241m.\u001b[39mdoc2bow(text) \u001b[38;5;28;01mfor\u001b[39;00m text \u001b[38;5;129;01min\u001b[39;00m df[\u001b[38;5;124m\"\u001b[39m\u001b[38;5;124mtext\u001b[39m\u001b[38;5;124m\"\u001b[39m]]\n\u001b[1;32m      8\u001b[0m \u001b[38;5;66;03m# Train LDA Model\u001b[39;00m\n",
      "File \u001b[0;32m~/anaconda3/lib/python3.11/site-packages/gensim/corpora/dictionary.py:78\u001b[0m, in \u001b[0;36mDictionary.__init__\u001b[0;34m(self, documents, prune_at)\u001b[0m\n\u001b[1;32m     75\u001b[0m \u001b[38;5;28mself\u001b[39m\u001b[38;5;241m.\u001b[39mnum_nnz \u001b[38;5;241m=\u001b[39m \u001b[38;5;241m0\u001b[39m\n\u001b[1;32m     77\u001b[0m \u001b[38;5;28;01mif\u001b[39;00m documents \u001b[38;5;129;01mis\u001b[39;00m \u001b[38;5;129;01mnot\u001b[39;00m \u001b[38;5;28;01mNone\u001b[39;00m:\n\u001b[0;32m---> 78\u001b[0m     \u001b[38;5;28mself\u001b[39m\u001b[38;5;241m.\u001b[39madd_documents(documents, prune_at\u001b[38;5;241m=\u001b[39mprune_at)\n\u001b[1;32m     79\u001b[0m     \u001b[38;5;28mself\u001b[39m\u001b[38;5;241m.\u001b[39madd_lifecycle_event(\n\u001b[1;32m     80\u001b[0m         \u001b[38;5;124m\"\u001b[39m\u001b[38;5;124mcreated\u001b[39m\u001b[38;5;124m\"\u001b[39m,\n\u001b[1;32m     81\u001b[0m         msg\u001b[38;5;241m=\u001b[39m\u001b[38;5;124mf\u001b[39m\u001b[38;5;124m\"\u001b[39m\u001b[38;5;124mbuilt \u001b[39m\u001b[38;5;132;01m{\u001b[39;00m\u001b[38;5;28mself\u001b[39m\u001b[38;5;132;01m}\u001b[39;00m\u001b[38;5;124m from \u001b[39m\u001b[38;5;132;01m{\u001b[39;00m\u001b[38;5;28mself\u001b[39m\u001b[38;5;241m.\u001b[39mnum_docs\u001b[38;5;132;01m}\u001b[39;00m\u001b[38;5;124m documents (total \u001b[39m\u001b[38;5;132;01m{\u001b[39;00m\u001b[38;5;28mself\u001b[39m\u001b[38;5;241m.\u001b[39mnum_pos\u001b[38;5;132;01m}\u001b[39;00m\u001b[38;5;124m corpus positions)\u001b[39m\u001b[38;5;124m\"\u001b[39m,\n\u001b[1;32m     82\u001b[0m     )\n",
      "File \u001b[0;32m~/anaconda3/lib/python3.11/site-packages/gensim/corpora/dictionary.py:204\u001b[0m, in \u001b[0;36mDictionary.add_documents\u001b[0;34m(self, documents, prune_at)\u001b[0m\n\u001b[1;32m    201\u001b[0m         logger\u001b[38;5;241m.\u001b[39minfo(\u001b[38;5;124m\"\u001b[39m\u001b[38;5;124madding document #\u001b[39m\u001b[38;5;132;01m%i\u001b[39;00m\u001b[38;5;124m to \u001b[39m\u001b[38;5;132;01m%s\u001b[39;00m\u001b[38;5;124m\"\u001b[39m, docno, \u001b[38;5;28mself\u001b[39m)\n\u001b[1;32m    203\u001b[0m     \u001b[38;5;66;03m# update Dictionary with the document\u001b[39;00m\n\u001b[0;32m--> 204\u001b[0m     \u001b[38;5;28mself\u001b[39m\u001b[38;5;241m.\u001b[39mdoc2bow(document, allow_update\u001b[38;5;241m=\u001b[39m\u001b[38;5;28;01mTrue\u001b[39;00m)  \u001b[38;5;66;03m# ignore the result, here we only care about updating token ids\u001b[39;00m\n\u001b[1;32m    206\u001b[0m logger\u001b[38;5;241m.\u001b[39minfo(\u001b[38;5;124m\"\u001b[39m\u001b[38;5;124mbuilt \u001b[39m\u001b[38;5;132;01m%s\u001b[39;00m\u001b[38;5;124m from \u001b[39m\u001b[38;5;132;01m%i\u001b[39;00m\u001b[38;5;124m documents (total \u001b[39m\u001b[38;5;132;01m%i\u001b[39;00m\u001b[38;5;124m corpus positions)\u001b[39m\u001b[38;5;124m\"\u001b[39m, \u001b[38;5;28mself\u001b[39m, \u001b[38;5;28mself\u001b[39m\u001b[38;5;241m.\u001b[39mnum_docs, \u001b[38;5;28mself\u001b[39m\u001b[38;5;241m.\u001b[39mnum_pos)\n",
      "File \u001b[0;32m~/anaconda3/lib/python3.11/site-packages/gensim/corpora/dictionary.py:241\u001b[0m, in \u001b[0;36mDictionary.doc2bow\u001b[0;34m(self, document, allow_update, return_missing)\u001b[0m\n\u001b[1;32m    209\u001b[0m \u001b[38;5;250m\u001b[39m\u001b[38;5;124;03m\"\"\"Convert `document` into the bag-of-words (BoW) format = list of `(token_id, token_count)` tuples.\u001b[39;00m\n\u001b[1;32m    210\u001b[0m \n\u001b[1;32m    211\u001b[0m \u001b[38;5;124;03mParameters\u001b[39;00m\n\u001b[0;32m   (...)\u001b[0m\n\u001b[1;32m    238\u001b[0m \n\u001b[1;32m    239\u001b[0m \u001b[38;5;124;03m\"\"\"\u001b[39;00m\n\u001b[1;32m    240\u001b[0m \u001b[38;5;28;01mif\u001b[39;00m \u001b[38;5;28misinstance\u001b[39m(document, \u001b[38;5;28mstr\u001b[39m):\n\u001b[0;32m--> 241\u001b[0m     \u001b[38;5;28;01mraise\u001b[39;00m \u001b[38;5;167;01mTypeError\u001b[39;00m(\u001b[38;5;124m\"\u001b[39m\u001b[38;5;124mdoc2bow expects an array of unicode tokens on input, not a single string\u001b[39m\u001b[38;5;124m\"\u001b[39m)\n\u001b[1;32m    243\u001b[0m \u001b[38;5;66;03m# Construct (word, frequency) mapping.\u001b[39;00m\n\u001b[1;32m    244\u001b[0m counter \u001b[38;5;241m=\u001b[39m defaultdict(\u001b[38;5;28mint\u001b[39m)\n",
      "\u001b[0;31mTypeError\u001b[0m: doc2bow expects an array of unicode tokens on input, not a single string"
     ]
    }
   ],
   "source": [
    "from gensim.corpora import Dictionary\n",
    "from gensim.models.ldamodel import LdaModel\n",
    "\n",
    "# Convert cleaned text into dictionary and corpus format for LDA\n",
    "dictionary = Dictionary(df[\"text\"])\n",
    "corpus = [dictionary.doc2bow(text) for text in df[\"text\"]]\n",
    "\n",
    "# Train LDA Model\n",
    "NUM_TOPICS = 5\n",
    "lda_model = LdaModel(corpus=corpus, id2word=dictionary, num_topics=NUM_TOPICS, passes=10, random_state=42)\n",
    "\n",
    "# Print the top words in each topic\n",
    "for topic_id, words in lda_model.show_topics(num_topics=NUM_TOPICS, num_words=10, formatted=False):\n",
    "    print(f\"\\n🔹 Topic {topic_id + 1}: \" + \", \".join([word for word, _ in words]))\n"
   ]
  },
  {
   "cell_type": "code",
   "execution_count": 105,
   "id": "7ce12336",
   "metadata": {},
   "outputs": [
    {
     "name": "stderr",
     "output_type": "stream",
     "text": [
      "[nltk_data] Downloading package stopwords to /Users/jade/nltk_data...\n",
      "[nltk_data]   Package stopwords is already up-to-date!\n"
     ]
    },
    {
     "name": "stdout",
     "output_type": "stream",
     "text": [
      "✅ Meaningful Words Remaining: 5251\n"
     ]
    }
   ],
   "source": [
    "import pandas as pd\n",
    "from collections import Counter\n",
    "from sklearn.feature_extraction.text import TfidfVectorizer\n",
    "from gensim.corpora import Dictionary\n",
    "from gensim.models.ldamodel import LdaModel\n",
    "import nltk\n",
    "from nltk.corpus import stopwords\n",
    "\n",
    "# Download stopwords if not available\n",
    "nltk.download(\"stopwords\")\n",
    "stop_words = set(stopwords.words(\"english\"))\n",
    "\n",
    "# Load dataset\n",
    "df = pd.read_csv(\"cc.csv\")\n",
    "\n",
    "# Tokenize all words and count occurrences\n",
    "all_words = \" \".join(df[\"body\"].astype(str)).lower().split()\n",
    "word_counts = Counter(all_words)\n",
    "\n",
    "# Define threshold for too common words (5% of total words)\n",
    "common_threshold = len(all_words) * 0.05\n",
    "\n",
    "# Identify meaningful words (not stopwords & not overly common)\n",
    "filtered_words = {word for word, count in word_counts.items() if word not in stop_words and count < common_threshold}\n",
    "\n",
    "print(f\"✅ Meaningful Words Remaining: {len(filtered_words)}\")\n",
    "\n"
   ]
  },
  {
   "cell_type": "code",
   "execution_count": null,
   "id": "e89d34ca",
   "metadata": {},
   "outputs": [],
   "source": [
    "# Convert text column to lists of tokens (tokenized format)\n",
    "df[\"tokenized_text\"] = df[\"body\"].astype(str).apply(lambda x: [word for word in x.lower().split() if word in filtered_words])\n",
    "\n",
    "# Convert lists to strings for TF-IDF processing\n",
    "df[\"text\"] = df[\"tokenized_text\"].apply(lambda x: \" \".join(x))\n",
    "\n",
    "# Apply TF-IDF\n",
    "vectorizer = TfidfVectorizer(max_features=5000)\n",
    "tfidf_matrix = vectorizer.fit_transform(df[\"text\"])\n",
    "\n",
    "# Extract important words\n",
    "selected_keywords = vectorizer.get_feature_names_out()\n",
    "print(f\"🔹 Selected {len(selected_keywords)} Key Market Words\")\n",
    "print(f\"🔥 Top 20 Keywords: {selected_keywords[:20]}\")\n"
   ]
  },
  {
   "cell_type": "code",
   "execution_count": null,
   "id": "fc017261",
   "metadata": {},
   "outputs": [],
   "source": [
    "# Convert tokenized text into dictionary and corpus format for LDA\n",
    "dictionary = Dictionary(df[\"tokenized_text\"])  # ✅ Ensure tokenized lists are passed\n",
    "corpus = [dictionary.doc2bow(text) for text in df[\"tokenized_text\"]]\n",
    "\n",
    "# Train LDA Model\n",
    "NUM_TOPICS = 5\n",
    "lda_model = LdaModel(corpus=corpus, id2word=dictionary, num_topics=NUM_TOPICS, passes=10, random_state=42)\n",
    "\n",
    "# Print the top words in each topic\n",
    "for topic_id, words in lda_model.show_topics(num_topics=NUM_TOPICS, num_words=10, formatted=False):\n",
    "    print(f\"\\n🔹 Topic {topic_id + 1}: \" + \", \".join([word for word, _ in words]))"
   ]
  },
  {
   "cell_type": "code",
   "execution_count": 114,
   "id": "7bb880c3",
   "metadata": {},
   "outputs": [
    {
     "name": "stderr",
     "output_type": "stream",
     "text": [
      "[nltk_data] Downloading package stopwords to /Users/jade/nltk_data...\n",
      "[nltk_data]   Package stopwords is already up-to-date!\n"
     ]
    }
   ],
   "source": [
    "import pandas as pd\n",
    "from collections import Counter\n",
    "from sklearn.feature_extraction.text import TfidfVectorizer\n",
    "from gensim.corpora import Dictionary\n",
    "from gensim.models.ldamodel import LdaModel\n",
    "import nltk\n",
    "from nltk.corpus import stopwords\n",
    "import re\n",
    "\n",
    "# Download stopwords if not available\n",
    "nltk.download(\"stopwords\")\n",
    "stop_words = set(stopwords.words(\"english\"))\n",
    "\n",
    "# Define an expanded custom stopword list\n",
    "custom_stopwords = set([\n",
    "    \"like\", \"it’s\", \"its\", \"one\", \"even\", \"see\", \"look\", \"would\", \"definitely\", \n",
    "    \"also\", \"much\", \"good\", \"maybe\", \"could\", \"make\", \"that’s\", \"that\", \"it.\", \"&\", \n",
    "    \"thank\", \"really\", \"think\", \"know\", \"people\", \"photo\", \"piece\", \"i’m\", \"pretty\", \n",
    "     \"may\", \"stone\", \"use\", \"want\", \"buy\", \"don’t\", \n",
    "    \"say\", \"sure\", \"get\", \"feel\", \"different\", \"it's\", \"crystal\", \"look\", \".\", \"bc\", \n",
    "    \"u\", \"$\",\" -\", \"😍\",\"might\",\"thought\",\"never\",\"time\",\"still\",\"but\",\"cotton\"\n",
    "])\n",
    "\n",
    "# Merge standard stopwords and custom stopwords\n",
    "all_stopwords = stop_words.union(custom_stopwords)\n",
    "\n",
    "# Load dataset\n",
    "df = pd.read_csv(\"cc.csv\")\n"
   ]
  },
  {
   "cell_type": "code",
   "execution_count": 115,
   "id": "a90eda90",
   "metadata": {},
   "outputs": [
    {
     "name": "stdout",
     "output_type": "stream",
     "text": [
      "✅ Meaningful Words Remaining: 5203\n"
     ]
    }
   ],
   "source": [
    "# Tokenize all words and count occurrences\n",
    "all_words = \" \".join(df[\"body\"].astype(str)).lower().split()\n",
    "word_counts = Counter(all_words)\n",
    "\n",
    "# Define threshold for too common words (5% of total words)\n",
    "common_threshold = len(all_words) * 0.05\n",
    "\n",
    "# Identify meaningful words (not stopwords & not overly common)\n",
    "filtered_words = {word for word, count in word_counts.items() if word not in all_stopwords and count < common_threshold}\n",
    "\n",
    "print(f\"✅ Meaningful Words Remaining: {len(filtered_words)}\")"
   ]
  },
  {
   "cell_type": "code",
   "execution_count": 116,
   "id": "b7671949",
   "metadata": {},
   "outputs": [
    {
     "name": "stdout",
     "output_type": "stream",
     "text": [
      "🔹 Selected 3422 Key Market Words\n",
      "🔥 Top 20 Keywords: ['aaa' 'aaw' 'abalone' 'abilities' 'ability' 'able' 'about' 'absolutely'\n",
      " 'absorb' 'absorbing' 'absurdly' 'abundant' 'abuse' 'abusive' 'acc'\n",
      " 'accept' 'acceptable' 'access' 'accessories' 'according']\n",
      "\n",
      "🔹 Topic 1: looks, fluorite, natural, color, made, crystals, quality, love, fake, come\n",
      "\n",
      "🔹 Topic 2: citrine, crystals, fake, fluorite, quartz, love, new, rose, that's, real\n",
      "\n",
      "🔹 Topic 3: looks, yes, put, take, beautiful!, me., light, that's, things, going\n",
      "\n",
      "🔹 Topic 4: looks, quartz, agate, crystals, fluorite, green, real, moss, thanks, almost\n",
      "\n",
      "🔹 Topic 5: amethyst, beautiful, opal, tell, love, lot, kind, heat, opalite, you!\n"
     ]
    }
   ],
   "source": [
    "# Text preprocessing function\n",
    "def preprocess_text(text):\n",
    "    text = re.sub(r'\\d+', '', text)  # Remove numbers\n",
    "    words = text.lower().split()\n",
    "    words = [word for word in words if word in filtered_words]  # Keep only meaningful words\n",
    "    return words\n",
    "\n",
    "# Apply text preprocessing\n",
    "df[\"tokenized_text\"] = df[\"body\"].astype(str).apply(preprocess_text)\n",
    "\n",
    "# Convert tokenized text back to strings for TF-IDF\n",
    "df[\"text\"] = df[\"tokenized_text\"].apply(lambda x: \" \".join(x))\n",
    "\n",
    "# Apply TF-IDF\n",
    "vectorizer = TfidfVectorizer(max_features=5000)\n",
    "tfidf_matrix = vectorizer.fit_transform(df[\"text\"])\n",
    "\n",
    "# Extract important words\n",
    "selected_keywords = vectorizer.get_feature_names_out()\n",
    "print(f\"🔹 Selected {len(selected_keywords)} Key Market Words\")\n",
    "print(f\"🔥 Top 20 Keywords: {selected_keywords[:20]}\")\n",
    "\n",
    "# Convert tokenized text into dictionary and corpus format for LDA\n",
    "dictionary = Dictionary(df[\"tokenized_text\"])  # ✅ Ensure tokenized lists are passed\n",
    "corpus = [dictionary.doc2bow(text) for text in df[\"tokenized_text\"]]\n",
    "\n",
    "# Train LDA Model\n",
    "NUM_TOPICS = 5\n",
    "lda_model = LdaModel(corpus=corpus, id2word=dictionary, num_topics=NUM_TOPICS, passes=10, random_state=42)\n",
    "\n",
    "# Print the top words in each topic\n",
    "for topic_id, words in lda_model.show_topics(num_topics=NUM_TOPICS, num_words=10, formatted=False):\n",
    "    print(f\"\\n🔹 Topic {topic_id + 1}: \" + \", \".join([word for word, _ in words]))"
   ]
  },
  {
   "cell_type": "code",
   "execution_count": null,
   "id": "1e8b3ade",
   "metadata": {},
   "outputs": [],
   "source": []
  }
 ],
 "metadata": {
  "kernelspec": {
   "display_name": "Python 3 (ipykernel)",
   "language": "python",
   "name": "python3"
  },
  "language_info": {
   "codemirror_mode": {
    "name": "ipython",
    "version": 3
   },
   "file_extension": ".py",
   "mimetype": "text/x-python",
   "name": "python",
   "nbconvert_exporter": "python",
   "pygments_lexer": "ipython3",
   "version": "3.11.5"
  }
 },
 "nbformat": 4,
 "nbformat_minor": 5
}
